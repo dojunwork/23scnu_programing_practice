{
 "cells": [
  {
   "cell_type": "code",
   "execution_count": 1,
   "metadata": {},
   "outputs": [
    {
     "name": "stdout",
     "output_type": "stream",
     "text": [
      "<class 'str'>\n"
     ]
    }
   ],
   "source": [
    "print(type(\"abc\"))"
   ]
  },
  {
   "cell_type": "code",
   "execution_count": 2,
   "metadata": {},
   "outputs": [
    {
     "data": {
      "text/plain": [
       "'abcd'"
      ]
     },
     "execution_count": 2,
     "metadata": {},
     "output_type": "execute_result"
    }
   ],
   "source": [
    "\"AbcD\".lower()"
   ]
  },
  {
   "cell_type": "code",
   "execution_count": 3,
   "metadata": {},
   "outputs": [
    {
     "data": {
      "text/plain": [
       "'ABCD'"
      ]
     },
     "execution_count": 3,
     "metadata": {},
     "output_type": "execute_result"
    }
   ],
   "source": [
    "\"aBCd\".upper()"
   ]
  },
  {
   "cell_type": "code",
   "execution_count": 1,
   "metadata": {},
   "outputs": [
    {
     "data": {
      "text/plain": [
       "'abc'"
      ]
     },
     "execution_count": 1,
     "metadata": {},
     "output_type": "execute_result"
    }
   ],
   "source": [
    "\" abc \".strip()"
   ]
  },
  {
   "cell_type": "code",
   "execution_count": 2,
   "metadata": {},
   "outputs": [
    {
     "data": {
      "text/plain": [
       "'45'"
      ]
     },
     "execution_count": 2,
     "metadata": {},
     "output_type": "execute_result"
    }
   ],
   "source": [
    "\" 45 \".strip()"
   ]
  },
  {
   "cell_type": "code",
   "execution_count": null,
   "metadata": {},
   "outputs": [],
   "source": [
    "print(\"abc123\".isalnum()) # 숫자와 영문자를 포함하고 있니?\n",
    "print(\"abc123\".isalpha())\n",
    "print(\"1233\".isdecimal()) # 정수인지\n",
    "print(\"\".isascii())\n",
    "print(\"\".is) #.뒤에 메소드"
   ]
  },
  {
   "cell_type": "code",
   "execution_count": 4,
   "metadata": {},
   "outputs": [
    {
     "data": {
      "text/plain": [
       "5"
      ]
     },
     "execution_count": 4,
     "metadata": {},
     "output_type": "execute_result"
    }
   ],
   "source": [
    "\"morning\".find(\"n\") # 문자열 찾기\n",
    "\"morning\".rfind(\"n\") # 오른쪽부터 문자열 찾기"
   ]
  },
  {
   "cell_type": "code",
   "execution_count": 6,
   "metadata": {},
   "outputs": [
    {
     "name": "stdout",
     "output_type": "stream",
     "text": [
      "True\n"
     ]
    }
   ],
   "source": [
    "print(\"rni\" in \"morning\") # 뒤에 있는 문자안에 저 문자가 있니?"
   ]
  },
  {
   "cell_type": "code",
   "execution_count": 10,
   "metadata": {},
   "outputs": [
    {
     "data": {
      "text/plain": [
       "['061', '740', '1234']"
      ]
     },
     "execution_count": 10,
     "metadata": {},
     "output_type": "execute_result"
    }
   ],
   "source": [
    "#문자열 나누기\n",
    "\"10 20 30 40\".split()"
   ]
  },
  {
   "cell_type": "code",
   "execution_count": 9,
   "metadata": {},
   "outputs": [
    {
     "data": {
      "text/plain": [
       "['061', '740', '1234']"
      ]
     },
     "execution_count": 9,
     "metadata": {},
     "output_type": "execute_result"
    }
   ],
   "source": [
    "#문자열 나누기\n",
    "\"061-740-1234\".split(\"-\")"
   ]
  },
  {
   "cell_type": "code",
   "execution_count": 11,
   "metadata": {},
   "outputs": [
    {
     "name": "stdout",
     "output_type": "stream",
     "text": [
      "원주율 = 3.14159265358979, 반지름 = 4\n",
      "원주율 = 3.142, 반지름 =     4\n"
     ]
    }
   ],
   "source": [
    "pi = 3.14159265358979\n",
    "r = 4\n",
    "\n",
    "print(\"원주율 = {}, 반지름 = {}\".format(pi, r))\n",
    "print(f\"원주율 = {pi:.3f}, 반지름 = {r:5d}\")"
   ]
  },
  {
   "cell_type": "code",
   "execution_count": 12,
   "metadata": {},
   "outputs": [
    {
     "name": "stdout",
     "output_type": "stream",
     "text": [
      "True\n"
     ]
    }
   ],
   "source": [
    "x = 25\n",
    "print(10 < x < 30)"
   ]
  },
  {
   "cell_type": "code",
   "execution_count": 13,
   "metadata": {},
   "outputs": [
    {
     "name": "stdout",
     "output_type": "stream",
     "text": [
      "True\n",
      "False\n",
      "False\n",
      "False\n",
      "True\n",
      "True\n",
      "True\n",
      "False\n"
     ]
    }
   ],
   "source": [
    "print(True and True)\n",
    "print(True and False)\n",
    "print(False and True)\n",
    "print(False and False)\n",
    "print(True or True)\n",
    "print(True or False)\n",
    "print(False or True)\n",
    "print(False or False)"
   ]
  },
  {
   "cell_type": "code",
   "execution_count": 5,
   "metadata": {},
   "outputs": [
    {
     "name": "stdout",
     "output_type": "stream",
     "text": [
      "inside if-statement\n",
      "성인입니다.\n",
      "outside if-statement\n"
     ]
    }
   ],
   "source": [
    "age = 25\n",
    "if age >= 20:\n",
    "    print(\"inside if-statement\")\n",
    "    print('성인입니다.')\n",
    "\n",
    "print('outside if-statement')"
   ]
  },
  {
   "cell_type": "code",
   "execution_count": 6,
   "metadata": {},
   "outputs": [
    {
     "name": "stdout",
     "output_type": "stream",
     "text": [
      "0\n"
     ]
    }
   ],
   "source": [
    "num = input(\"정수 입력\")\n",
    "num = int(num)\n",
    "\n",
    "if num > 0:\n",
    "    print(\"양수\")\n",
    "    \n",
    "if num < 0:\n",
    "    print(\"음수\")\n",
    "    \n",
    "if num == 0:\n",
    "    print(\"0\")"
   ]
  },
  {
   "cell_type": "code",
   "execution_count": 1,
   "metadata": {},
   "outputs": [
    {
     "name": "stdout",
     "output_type": "stream",
     "text": [
      "2023 년\n",
      "4 월\n",
      "5 일\n",
      "12 시\n",
      "33 분\n",
      "31 초\n",
      "오후\n"
     ]
    }
   ],
   "source": [
    "import datetime\n",
    "\n",
    "now = datetime.datetime.now()\n",
    "\n",
    "print(now.year, '년')\n",
    "print(now.month, '월')\n",
    "print(now.day, '일')\n",
    "print(now.hour, '시')\n",
    "print(now.minute, '분')\n",
    "print(now.second, '초')\n",
    "\n",
    "if now.hour >= 12:\n",
    "    print(\"오후\")\n",
    "\n",
    "if now.hour < 12:\n",
    "    print(\"오전\")"
   ]
  },
  {
   "cell_type": "code",
   "execution_count": 14,
   "metadata": {},
   "outputs": [
    {
     "name": "stdout",
     "output_type": "stream",
     "text": [
      "봄\n"
     ]
    }
   ],
   "source": [
    "import datetime\n",
    "\n",
    "now = datetime.datetime.now()\n",
    "\n",
    "if 3 <= now.month <= 5:\n",
    "    print('봄')\n",
    "    \n",
    "if 6 <= now.month <= 8:\n",
    "    print('여름')\n",
    "\n",
    "if 9 <= now.month <= 11:\n",
    "    print('가을')\n",
    "\n",
    "if  now.month == 12 or 1 <= now.month <= 2:\n",
    "    print('겨울')"
   ]
  },
  {
   "cell_type": "code",
   "execution_count": 16,
   "metadata": {},
   "outputs": [
    {
     "name": "stdout",
     "output_type": "stream",
     "text": [
      "2는 짝수\n"
     ]
    }
   ],
   "source": [
    "num = input(\"정수\")\n",
    "last_char = int(num[-1])\n",
    "if (last_char == 0 or\n",
    "    last_char == 2 or\n",
    "    last_char == 4 or\n",
    "    last_char == 6 or\n",
    "    last_char == 8):\n",
    "    print(\"{}는 짝수\".format(num))"
   ]
  },
  {
   "cell_type": "code",
   "execution_count": 19,
   "metadata": {},
   "outputs": [
    {
     "name": "stdout",
     "output_type": "stream",
     "text": [
      "0은 짝수\n"
     ]
    }
   ],
   "source": [
    "num = input(\"정수 입력\")\n",
    "last_char = num[-1]\n",
    "if last_char in \"02468\":\n",
    "    print(f\"{num}은 짝수\")\n",
    "if last_char in \"13579\":\n",
    "    print(f\"{num}은 짝수\")"
   ]
  },
  {
   "cell_type": "code",
   "execution_count": 21,
   "metadata": {},
   "outputs": [
    {
     "name": "stdout",
     "output_type": "stream",
     "text": [
      "1은 홀수\n"
     ]
    }
   ],
   "source": [
    "num = int(input(\"정수 입력\"))\n",
    "\n",
    "if num % 2 == 0:\n",
    "    print(f\"{num}은 짝수\")\n",
    "if num % 2 != 0:\n",
    "    print(f\"{num}은 홀수\")"
   ]
  },
  {
   "cell_type": "code",
   "execution_count": 23,
   "metadata": {},
   "outputs": [
    {
     "name": "stdout",
     "output_type": "stream",
     "text": [
      "1은 홀수\n"
     ]
    }
   ],
   "source": [
    "num = int(input(\"정수 입력\"))\n",
    "\n",
    "if num % 2 == 0:\n",
    "    print(f\"{num}은 짝수\")\n",
    "else:\n",
    "    print(f\"{num}은 홀수\")"
   ]
  },
  {
   "cell_type": "code",
   "execution_count": 24,
   "metadata": {},
   "outputs": [
    {
     "name": "stdout",
     "output_type": "stream",
     "text": [
      "봄\n"
     ]
    }
   ],
   "source": [
    "import datetime\n",
    "\n",
    "now = datetime.datetime.now()\n",
    "\n",
    "if 3 <= now.month <= 5:\n",
    "    print('봄')\n",
    "elif 6 <= now.month <= 8:\n",
    "    print('여름')\n",
    "elif 9 <= now.month <= 11:\n",
    "    print('가을')\n",
    "else:\n",
    "    print('겨울')"
   ]
  },
  {
   "cell_type": "code",
   "execution_count": null,
   "metadata": {},
   "outputs": [],
   "source": [
    "\n"
   ]
  },
  {
   "cell_type": "code",
   "execution_count": null,
   "metadata": {},
   "outputs": [],
   "source": []
  }
 ],
 "metadata": {
  "kernelspec": {
   "display_name": "Python 3",
   "language": "python",
   "name": "python3"
  },
  "language_info": {
   "codemirror_mode": {
    "name": "ipython",
    "version": 3
   },
   "file_extension": ".py",
   "mimetype": "text/x-python",
   "name": "python",
   "nbconvert_exporter": "python",
   "pygments_lexer": "ipython3",
   "version": "3.10.10"
  },
  "orig_nbformat": 4
 },
 "nbformat": 4,
 "nbformat_minor": 2
}
